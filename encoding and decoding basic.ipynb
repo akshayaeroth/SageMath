{
 "cells": [
  {
   "cell_type": "code",
   "execution_count": 1,
   "metadata": {},
   "outputs": [],
   "source": [
    "from sage.crypto.util import ascii_to_bin\n",
    "from sage.crypto.util import bin_to_ascii\n",
    "from sage.crypto.util import ascii_integer"
   ]
  },
  {
   "cell_type": "code",
   "execution_count": 2,
   "metadata": {},
   "outputs": [
    {
     "data": {
      "text/plain": [
       "[0,\n",
       " 1,\n",
       " 0,\n",
       " 1,\n",
       " 0,\n",
       " 0,\n",
       " 1,\n",
       " 1,\n",
       " 0,\n",
       " 1,\n",
       " 1,\n",
       " 0,\n",
       " 0,\n",
       " 0,\n",
       " 0,\n",
       " 1,\n",
       " 0,\n",
       " 1,\n",
       " 1,\n",
       " 0,\n",
       " 0,\n",
       " 1,\n",
       " 1,\n",
       " 1,\n",
       " 0,\n",
       " 1,\n",
       " 1,\n",
       " 0,\n",
       " 0,\n",
       " 1,\n",
       " 0,\n",
       " 1,\n",
       " 0,\n",
       " 1,\n",
       " 1,\n",
       " 0,\n",
       " 1,\n",
       " 1,\n",
       " 0,\n",
       " 1,\n",
       " 0,\n",
       " 1,\n",
       " 1,\n",
       " 0,\n",
       " 0,\n",
       " 0,\n",
       " 0,\n",
       " 1,\n",
       " 0,\n",
       " 1,\n",
       " 1,\n",
       " 1,\n",
       " 0,\n",
       " 1,\n",
       " 0,\n",
       " 0,\n",
       " 0,\n",
       " 1,\n",
       " 1,\n",
       " 0,\n",
       " 1,\n",
       " 0,\n",
       " 0,\n",
       " 0]"
      ]
     },
     "execution_count": 2,
     "metadata": {},
     "output_type": "execute_result"
    }
   ],
   "source": [
    "bin = BinaryStrings()\n",
    "B = bin.encoding(\"Sagemath\");\n",
    "list1=list(B)\n",
    "list1"
   ]
  },
  {
   "cell_type": "code",
   "execution_count": 3,
   "metadata": {},
   "outputs": [
    {
     "name": "stdout",
     "output_type": "stream",
     "text": [
      "length :  64\n"
     ]
    }
   ],
   "source": [
    "G = Matrix(GF(2), [[1,1,1,0,0,0,0],[1,0,0,1,1,0,0],[0,1,0,1,1,0,0],[1,1,0,0,1,0,1]])\n",
    "C = LinearCode(G)\n",
    "print(\"length : \",len(list1))\n",
    "len=len(list1)"
   ]
  },
  {
   "cell_type": "code",
   "execution_count": 10,
   "metadata": {},
   "outputs": [
    {
     "name": "stdout",
     "output_type": "stream",
     "text": [
      "[0, 1, 0, 1]\n",
      "[0, 0, 1, 1]\n",
      "[0, 1, 1, 0]\n",
      "[0, 0, 0, 1]\n",
      "[0, 1, 1, 0]\n",
      "[0, 1, 1, 1]\n",
      "[0, 1, 1, 0]\n",
      "[0, 1, 0, 1]\n",
      "[0, 1, 1, 0]\n",
      "[1, 1, 0, 1]\n",
      "[0, 1, 1, 0]\n",
      "[0, 0, 0, 1]\n",
      "[0, 1, 1, 1]\n",
      "[0, 1, 0, 0]\n",
      "[0, 1, 1, 0]\n",
      "[1, 0, 0, 0]\n"
     ]
    }
   ],
   "source": [
    "import numpy as np;\n",
    "n=len//4\n",
    "n\n",
    "splits = np.array_split(list1,n)\n",
    "for array in splits:\n",
    "    print(list(array))"
   ]
  },
  {
   "cell_type": "code",
   "execution_count": 11,
   "metadata": {},
   "outputs": [
    {
     "data": {
      "text/plain": [
       "[(0, 1, 0, 1, 0, 0, 1),\n",
       " (1, 0, 0, 1, 0, 0, 1),\n",
       " (1, 1, 0, 0, 0, 0, 0),\n",
       " (1, 1, 0, 0, 1, 0, 1),\n",
       " (1, 1, 0, 0, 0, 0, 0),\n",
       " (0, 0, 0, 0, 1, 0, 1),\n",
       " (1, 1, 0, 0, 0, 0, 0),\n",
       " (0, 1, 0, 1, 0, 0, 1),\n",
       " (1, 1, 0, 0, 0, 0, 0),\n",
       " (1, 0, 1, 1, 0, 0, 1),\n",
       " (1, 1, 0, 0, 0, 0, 0),\n",
       " (1, 1, 0, 0, 1, 0, 1),\n",
       " (0, 0, 0, 0, 1, 0, 1),\n",
       " (1, 0, 0, 1, 1, 0, 0),\n",
       " (1, 1, 0, 0, 0, 0, 0),\n",
       " (1, 1, 1, 0, 0, 0, 0)]"
      ]
     },
     "execution_count": 11,
     "metadata": {},
     "output_type": "execute_result"
    }
   ],
   "source": [
    "#encoding\n",
    "list2=[]\n",
    "for array in splits:\n",
    "    word = vector(GF(2),(array))\n",
    "    E = codes.encoders.LinearCodeGeneratorMatrixEncoder(C)\n",
    "    A=E.encode(word)\n",
    "    list2.append(A)\n",
    "\n",
    "list2\n",
    "    \n",
    "    "
   ]
  },
  {
   "cell_type": "code",
   "execution_count": 12,
   "metadata": {},
   "outputs": [
    {
     "data": {
      "text/plain": [
       "[(0, 1, 0, 1),\n",
       " (0, 0, 1, 1),\n",
       " (0, 1, 1, 0),\n",
       " (0, 0, 0, 1),\n",
       " (0, 1, 1, 0),\n",
       " (0, 1, 1, 1),\n",
       " (0, 1, 1, 0),\n",
       " (0, 1, 0, 1),\n",
       " (0, 1, 1, 0),\n",
       " (1, 1, 0, 1),\n",
       " (0, 1, 1, 0),\n",
       " (0, 0, 0, 1),\n",
       " (0, 1, 1, 1),\n",
       " (0, 1, 0, 0),\n",
       " (0, 1, 1, 0),\n",
       " (1, 0, 0, 0)]"
      ]
     },
     "execution_count": 12,
     "metadata": {},
     "output_type": "execute_result"
    }
   ],
   "source": [
    "#decoding\n",
    "list3=[]\n",
    "for x in list2:\n",
    "    word = vector(GF(2), ((x)))\n",
    "    w_err = word + vector(GF(2), ((1, 0, 0, 0, 0, 0, 0)))\n",
    "    D = C.decoder()\n",
    "    G=D.decode_to_message(w_err)\n",
    "    list3.append(G)\n",
    "list3"
   ]
  },
  {
   "cell_type": "code",
   "execution_count": 13,
   "metadata": {},
   "outputs": [
    {
     "name": "stdout",
     "output_type": "stream",
     "text": [
      "(0, 1, 0, 1)\n",
      "(0, 0, 1, 1)\n",
      "(0, 1, 1, 0)\n",
      "(0, 0, 0, 1)\n",
      "(0, 1, 1, 0)\n",
      "(0, 1, 1, 1)\n",
      "(0, 1, 1, 0)\n",
      "(0, 1, 0, 1)\n",
      "(0, 1, 1, 0)\n",
      "(1, 1, 0, 1)\n",
      "(0, 1, 1, 0)\n",
      "(0, 0, 0, 1)\n",
      "(0, 1, 1, 1)\n",
      "(0, 1, 0, 0)\n",
      "(0, 1, 1, 0)\n",
      "(1, 0, 0, 0)\n"
     ]
    }
   ],
   "source": [
    "for x in list3:\n",
    "    print(x)"
   ]
  },
  {
   "cell_type": "code",
   "execution_count": 15,
   "metadata": {},
   "outputs": [
    {
     "name": "stdout",
     "output_type": "stream",
     "text": [
      "0\n",
      "1\n",
      "0\n",
      "1\n",
      "0\n",
      "0\n",
      "1\n",
      "1\n",
      "0\n",
      "1\n",
      "1\n",
      "0\n",
      "0\n",
      "0\n",
      "0\n",
      "1\n",
      "0\n",
      "1\n",
      "1\n",
      "0\n",
      "0\n",
      "1\n",
      "1\n",
      "1\n",
      "0\n",
      "1\n",
      "1\n",
      "0\n",
      "0\n",
      "1\n",
      "0\n",
      "1\n",
      "0\n",
      "1\n",
      "1\n",
      "0\n",
      "1\n",
      "1\n",
      "0\n",
      "1\n",
      "0\n",
      "1\n",
      "1\n",
      "0\n",
      "0\n",
      "0\n",
      "0\n",
      "1\n",
      "0\n",
      "1\n",
      "1\n",
      "1\n",
      "0\n",
      "1\n",
      "0\n",
      "0\n",
      "0\n",
      "1\n",
      "1\n",
      "0\n",
      "1\n",
      "0\n",
      "0\n",
      "0\n"
     ]
    }
   ],
   "source": [
    "strg=[]\n",
    "for x in list3:\n",
    "    #print(x)\n",
    "    for y in x:\n",
    "        strg.append(y)\n",
    "        print(y)"
   ]
  },
  {
   "cell_type": "code",
   "execution_count": 16,
   "metadata": {},
   "outputs": [
    {
     "name": "stdout",
     "output_type": "stream",
     "text": [
      "0101001101100001011001110110010101101101011000010111010001101000\n"
     ]
    }
   ],
   "source": [
    "binr = ''.join(str(e) for e in strg)\n",
    "print(binr)"
   ]
  },
  {
   "cell_type": "code",
   "execution_count": 17,
   "metadata": {},
   "outputs": [
    {
     "data": {
      "text/plain": [
       "'0101001101100001011001110110010101101101011000010111010001101000'"
      ]
     },
     "execution_count": 17,
     "metadata": {},
     "output_type": "execute_result"
    }
   ],
   "source": [
    "binr"
   ]
  },
  {
   "cell_type": "code",
   "execution_count": 18,
   "metadata": {},
   "outputs": [
    {
     "data": {
      "text/plain": [
       "'Sagemath'"
      ]
     },
     "execution_count": 18,
     "metadata": {},
     "output_type": "execute_result"
    }
   ],
   "source": [
    "word=bin_to_ascii(binr)\n",
    "word"
   ]
  },
  {
   "cell_type": "code",
   "execution_count": null,
   "metadata": {},
   "outputs": [],
   "source": []
  }
 ],
 "metadata": {
  "kernelspec": {
   "display_name": "SageMath 9.3",
   "language": "sage",
   "name": "sagemath"
  },
  "language_info": {
   "codemirror_mode": {
    "name": "ipython",
    "version": 3
   },
   "file_extension": ".py",
   "mimetype": "text/x-python",
   "name": "python",
   "nbconvert_exporter": "python",
   "pygments_lexer": "ipython3",
   "version": "3.7.10"
  }
 },
 "nbformat": 4,
 "nbformat_minor": 4
}
