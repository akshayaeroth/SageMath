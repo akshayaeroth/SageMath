{
 "cells": [
  {
   "cell_type": "code",
   "execution_count": 1,
   "metadata": {},
   "outputs": [],
   "source": [
    "import numpy as np\n",
    "from sage.crypto.util import ascii_to_bin\n",
    "from sage.crypto.util import bin_to_ascii\n",
    "from sage.crypto.util import ascii_integer"
   ]
  },
  {
   "cell_type": "code",
   "execution_count": 2,
   "metadata": {},
   "outputs": [
    {
     "name": "stderr",
     "output_type": "stream",
     "text": [
      "/opt/sagemath-9.3/local/lib/python3.7/site-packages/sage/coding/cyclic_code.py:452: FutureWarning: This class/method/function is marked as experimental. It, its functionality or its interface might change without a formal deprecation.\n",
      "See http://trac.sagemath.org/20284 for details.\n",
      "  embedding=F_to_Fsplit)\n"
     ]
    },
    {
     "data": {
      "text/plain": [
       "[15, 5] BCH Code over GF(2) with designed distance 7"
      ]
     },
     "execution_count": 2,
     "metadata": {},
     "output_type": "execute_result"
    }
   ],
   "source": [
    "C = codes.BCHCode(GF(2), 15, 7, offset=1)\n",
    "C"
   ]
  },
  {
   "cell_type": "code",
   "execution_count": 3,
   "metadata": {},
   "outputs": [
    {
     "data": {
      "text/plain": [
       "[1 1 1 0 1 1 0 0 1 0 1 0 0 0 0]\n",
       "[0 1 1 1 0 1 1 0 0 1 0 1 0 0 0]\n",
       "[0 0 1 1 1 0 1 1 0 0 1 0 1 0 0]\n",
       "[0 0 0 1 1 1 0 1 1 0 0 1 0 1 0]\n",
       "[0 0 0 0 1 1 1 0 1 1 0 0 1 0 1]"
      ]
     },
     "execution_count": 3,
     "metadata": {},
     "output_type": "execute_result"
    }
   ],
   "source": [
    "G=C.generator_matrix()\n",
    "G"
   ]
  },
  {
   "cell_type": "code",
   "execution_count": 4,
   "metadata": {},
   "outputs": [
    {
     "name": "stdout",
     "output_type": "stream",
     "text": [
      "Enter any string : Sagemath\n",
      "Sagemath\n"
     ]
    }
   ],
   "source": [
    "inp = input(\"Enter any string : \")\n",
    "print(inp)"
   ]
  },
  {
   "cell_type": "code",
   "execution_count": 5,
   "metadata": {},
   "outputs": [
    {
     "name": "stdout",
     "output_type": "stream",
     "text": [
      "Converted to Binary 0101001101100001011001110110010101101101011000010111010001101000\n"
     ]
    }
   ],
   "source": [
    "bin = BinaryStrings()\n",
    "B = ascii_to_bin(inp);\n",
    "print(\"Converted to Binary\",B)\n",
    "list1=[int(i) for i in str(B)]\n"
   ]
  },
  {
   "cell_type": "code",
   "execution_count": 6,
   "metadata": {},
   "outputs": [
    {
     "name": "stdout",
     "output_type": "stream",
     "text": [
      "[0, 1, 0, 1, 0, 0, 1, 1, 0, 1, 1, 0, 0, 0, 0, 1, 0, 1, 1, 0, 0, 1, 1, 1, 0, 1, 1, 0, 0, 1, 0, 1, 0, 1, 1, 0, 1, 1, 0, 1, 0, 1, 1, 0, 0, 0, 0, 1, 0, 1, 1, 1, 0, 1, 0, 0, 0, 1, 1, 0, 1, 0, 0, 0]\n"
     ]
    }
   ],
   "source": [
    "print(list1)"
   ]
  },
  {
   "cell_type": "code",
   "execution_count": 7,
   "metadata": {},
   "outputs": [
    {
     "data": {
      "text/plain": [
       "64"
      ]
     },
     "execution_count": 7,
     "metadata": {},
     "output_type": "execute_result"
    }
   ],
   "source": [
    "len=len(list1)\n",
    "len"
   ]
  },
  {
   "cell_type": "code",
   "execution_count": 8,
   "metadata": {},
   "outputs": [
    {
     "name": "stdout",
     "output_type": "stream",
     "text": [
      "01010011011000010110011101100101011011010110000101110100011010000\n"
     ]
    }
   ],
   "source": [
    "pad = '0'\n",
    "if len % 5 ==1:\n",
    "    l=len+4\n",
    "    x = str(B).ljust(l, pad)\n",
    "    print(x)\n",
    "elif len % 5 ==2:\n",
    "    l=len+3\n",
    "    x = str(B).ljust(l, pad)\n",
    "    print(x)\n",
    "elif len % 5 ==3:\n",
    "    l=len+2\n",
    "    x = str(B).ljust(l, pad)\n",
    "    print(x)\n",
    "elif len % 5 ==4:\n",
    "    l=len+1\n",
    "    x = str(B).ljust(l, pad)\n",
    "    print(x)\n",
    "elif len % 5 ==0:\n",
    "    print(\"Padding not needed\")\n",
    "    x=B"
   ]
  },
  {
   "cell_type": "code",
   "execution_count": 9,
   "metadata": {},
   "outputs": [
    {
     "data": {
      "text/plain": [
       "'01010011011000010110011101100101011011010110000101110100011010000'"
      ]
     },
     "execution_count": 9,
     "metadata": {},
     "output_type": "execute_result"
    }
   ],
   "source": [
    "x"
   ]
  },
  {
   "cell_type": "code",
   "execution_count": 10,
   "metadata": {},
   "outputs": [
    {
     "data": {
      "text/plain": [
       "65"
      ]
     },
     "execution_count": 10,
     "metadata": {},
     "output_type": "execute_result"
    }
   ],
   "source": [
    "length=((x).join(x)).count(x) + 1\n",
    "length"
   ]
  },
  {
   "cell_type": "code",
   "execution_count": 11,
   "metadata": {},
   "outputs": [
    {
     "data": {
      "text/plain": [
       "[0,\n",
       " 1,\n",
       " 0,\n",
       " 1,\n",
       " 0,\n",
       " 0,\n",
       " 1,\n",
       " 1,\n",
       " 0,\n",
       " 1,\n",
       " 1,\n",
       " 0,\n",
       " 0,\n",
       " 0,\n",
       " 0,\n",
       " 1,\n",
       " 0,\n",
       " 1,\n",
       " 1,\n",
       " 0,\n",
       " 0,\n",
       " 1,\n",
       " 1,\n",
       " 1,\n",
       " 0,\n",
       " 1,\n",
       " 1,\n",
       " 0,\n",
       " 0,\n",
       " 1,\n",
       " 0,\n",
       " 1,\n",
       " 0,\n",
       " 1,\n",
       " 1,\n",
       " 0,\n",
       " 1,\n",
       " 1,\n",
       " 0,\n",
       " 1,\n",
       " 0,\n",
       " 1,\n",
       " 1,\n",
       " 0,\n",
       " 0,\n",
       " 0,\n",
       " 0,\n",
       " 1,\n",
       " 0,\n",
       " 1,\n",
       " 1,\n",
       " 1,\n",
       " 0,\n",
       " 1,\n",
       " 0,\n",
       " 0,\n",
       " 0,\n",
       " 1,\n",
       " 1,\n",
       " 0,\n",
       " 1,\n",
       " 0,\n",
       " 0,\n",
       " 0,\n",
       " 0]"
      ]
     },
     "execution_count": 11,
     "metadata": {},
     "output_type": "execute_result"
    }
   ],
   "source": [
    "plist=[int(i) for i in str(x)]\n",
    "plist"
   ]
  },
  {
   "cell_type": "code",
   "execution_count": 12,
   "metadata": {},
   "outputs": [
    {
     "data": {
      "text/plain": [
       "13"
      ]
     },
     "execution_count": 12,
     "metadata": {},
     "output_type": "execute_result"
    }
   ],
   "source": [
    "n=length/5\n",
    "n"
   ]
  },
  {
   "cell_type": "code",
   "execution_count": 13,
   "metadata": {},
   "outputs": [
    {
     "name": "stdout",
     "output_type": "stream",
     "text": [
      "[0 1 0 1 0]\n",
      "Encoded (0, 1, 1, 0, 1, 0, 1, 1, 1, 1, 0, 0, 0, 1, 0)\n",
      "[0 1 1 0 1]\n",
      "Encoded (0, 1, 0, 0, 0, 0, 1, 1, 1, 0, 1, 1, 0, 0, 1)\n",
      "[1 0 0 0 0]\n",
      "Encoded (1, 1, 1, 0, 1, 1, 0, 0, 1, 0, 1, 0, 0, 0, 0)\n",
      "[1 0 1 1 0]\n",
      "Encoded (1, 1, 0, 0, 1, 0, 1, 0, 0, 0, 0, 1, 1, 1, 0)\n",
      "[0 1 1 1 0]\n",
      "Encoded (0, 1, 0, 1, 0, 0, 0, 0, 1, 1, 1, 0, 1, 1, 0)\n",
      "[1 1 0 0 1]\n",
      "Encoded (1, 0, 0, 1, 0, 1, 0, 0, 0, 0, 1, 1, 1, 0, 1)\n",
      "[0 1 0 1 1]\n",
      "Encoded (0, 1, 1, 0, 0, 1, 0, 1, 0, 0, 0, 0, 1, 1, 1)\n",
      "[0 1 1 0 1]\n",
      "Encoded (0, 1, 0, 0, 0, 0, 1, 1, 1, 0, 1, 1, 0, 0, 1)\n",
      "[0 1 1 0 0]\n",
      "Encoded (0, 1, 0, 0, 1, 1, 0, 1, 0, 1, 1, 1, 1, 0, 0)\n",
      "[0 0 1 0 1]\n",
      "Encoded (0, 0, 1, 1, 0, 1, 0, 1, 1, 1, 1, 0, 0, 0, 1)\n",
      "[1 1 0 1 0]\n",
      "Encoded (1, 0, 0, 0, 0, 1, 1, 1, 0, 1, 1, 0, 0, 1, 0)\n",
      "[0 0 1 1 0]\n",
      "Encoded (0, 0, 1, 0, 0, 1, 1, 0, 1, 0, 1, 1, 1, 1, 0)\n",
      "[1 0 0 0 0]\n",
      "Encoded (1, 1, 1, 0, 1, 1, 0, 0, 1, 0, 1, 0, 0, 0, 0)\n"
     ]
    }
   ],
   "source": [
    "splits = np.array_split(plist,n)\n",
    "list2=[]\n",
    "for i in splits:\n",
    "    print(i)\n",
    "    #encoding\n",
    "    word = vector(GF(2),(i))\n",
    "    E = codes.encoders.LinearCodeGeneratorMatrixEncoder(C)\n",
    "    A=E.encode(word)\n",
    "    list2.append(A)\n",
    "    print(\"Encoded\",A)\n"
   ]
  },
  {
   "cell_type": "code",
   "execution_count": 14,
   "metadata": {},
   "outputs": [
    {
     "data": {
      "text/plain": [
       "[(0, 1, 1, 0, 1, 0, 1, 1, 1, 1, 0, 0, 0, 1, 0),\n",
       " (0, 1, 0, 0, 0, 0, 1, 1, 1, 0, 1, 1, 0, 0, 1),\n",
       " (1, 1, 1, 0, 1, 1, 0, 0, 1, 0, 1, 0, 0, 0, 0),\n",
       " (1, 1, 0, 0, 1, 0, 1, 0, 0, 0, 0, 1, 1, 1, 0),\n",
       " (0, 1, 0, 1, 0, 0, 0, 0, 1, 1, 1, 0, 1, 1, 0),\n",
       " (1, 0, 0, 1, 0, 1, 0, 0, 0, 0, 1, 1, 1, 0, 1),\n",
       " (0, 1, 1, 0, 0, 1, 0, 1, 0, 0, 0, 0, 1, 1, 1),\n",
       " (0, 1, 0, 0, 0, 0, 1, 1, 1, 0, 1, 1, 0, 0, 1),\n",
       " (0, 1, 0, 0, 1, 1, 0, 1, 0, 1, 1, 1, 1, 0, 0),\n",
       " (0, 0, 1, 1, 0, 1, 0, 1, 1, 1, 1, 0, 0, 0, 1),\n",
       " (1, 0, 0, 0, 0, 1, 1, 1, 0, 1, 1, 0, 0, 1, 0),\n",
       " (0, 0, 1, 0, 0, 1, 1, 0, 1, 0, 1, 1, 1, 1, 0),\n",
       " (1, 1, 1, 0, 1, 1, 0, 0, 1, 0, 1, 0, 0, 0, 0)]"
      ]
     },
     "execution_count": 14,
     "metadata": {},
     "output_type": "execute_result"
    }
   ],
   "source": [
    "list2"
   ]
  },
  {
   "cell_type": "code",
   "execution_count": 15,
   "metadata": {},
   "outputs": [
    {
     "name": "stdout",
     "output_type": "stream",
     "text": [
      "(0, 1, 1, 0, 1, 0, 1, 1, 1, 1, 0, 0, 0, 1, 0)\n",
      "Decoded (0, 1, 0, 1, 0)\n",
      "(0, 1, 0, 0, 0, 0, 1, 1, 1, 0, 1, 1, 0, 0, 1)\n",
      "Decoded (0, 1, 1, 0, 1)\n",
      "(1, 1, 1, 0, 1, 1, 0, 0, 1, 0, 1, 0, 0, 0, 0)\n",
      "Decoded (1, 0, 0, 0, 0)\n",
      "(1, 1, 0, 0, 1, 0, 1, 0, 0, 0, 0, 1, 1, 1, 0)\n",
      "Decoded (1, 0, 1, 1, 0)\n",
      "(0, 1, 0, 1, 0, 0, 0, 0, 1, 1, 1, 0, 1, 1, 0)\n",
      "Decoded (0, 1, 1, 1, 0)\n",
      "(1, 0, 0, 1, 0, 1, 0, 0, 0, 0, 1, 1, 1, 0, 1)\n",
      "Decoded (1, 1, 0, 0, 1)\n",
      "(0, 1, 1, 0, 0, 1, 0, 1, 0, 0, 0, 0, 1, 1, 1)\n",
      "Decoded (0, 1, 0, 1, 1)\n",
      "(0, 1, 0, 0, 0, 0, 1, 1, 1, 0, 1, 1, 0, 0, 1)\n",
      "Decoded (0, 1, 1, 0, 1)\n",
      "(0, 1, 0, 0, 1, 1, 0, 1, 0, 1, 1, 1, 1, 0, 0)\n",
      "Decoded (0, 1, 1, 0, 0)\n",
      "(0, 0, 1, 1, 0, 1, 0, 1, 1, 1, 1, 0, 0, 0, 1)\n",
      "Decoded (0, 0, 1, 0, 1)\n",
      "(1, 0, 0, 0, 0, 1, 1, 1, 0, 1, 1, 0, 0, 1, 0)\n",
      "Decoded (1, 1, 0, 1, 0)\n",
      "(0, 0, 1, 0, 0, 1, 1, 0, 1, 0, 1, 1, 1, 1, 0)\n",
      "Decoded (0, 0, 1, 1, 0)\n",
      "(1, 1, 1, 0, 1, 1, 0, 0, 1, 0, 1, 0, 0, 0, 0)\n",
      "Decoded (1, 0, 0, 0, 0)\n"
     ]
    }
   ],
   "source": [
    "#decoding\n",
    "list3=[]\n",
    "for x in list2:\n",
    "    print(x)\n",
    "    word = vector(GF(2), ((x)))\n",
    "    w_err = word + vector(GF(2), ((1,0,0,0,0,0,0,0,0,0,0,0,0,0,0)))\n",
    "    D = C.decoder()\n",
    "    G=D.decode_to_message(w_err)\n",
    "    list3.append(G)\n",
    "    print(\"Decoded\",G)"
   ]
  },
  {
   "cell_type": "code",
   "execution_count": 16,
   "metadata": {},
   "outputs": [
    {
     "data": {
      "text/plain": [
       "[(0, 1, 0, 1, 0),\n",
       " (0, 1, 1, 0, 1),\n",
       " (1, 0, 0, 0, 0),\n",
       " (1, 0, 1, 1, 0),\n",
       " (0, 1, 1, 1, 0),\n",
       " (1, 1, 0, 0, 1),\n",
       " (0, 1, 0, 1, 1),\n",
       " (0, 1, 1, 0, 1),\n",
       " (0, 1, 1, 0, 0),\n",
       " (0, 0, 1, 0, 1),\n",
       " (1, 1, 0, 1, 0),\n",
       " (0, 0, 1, 1, 0),\n",
       " (1, 0, 0, 0, 0)]"
      ]
     },
     "execution_count": 16,
     "metadata": {},
     "output_type": "execute_result"
    }
   ],
   "source": [
    "list3"
   ]
  },
  {
   "cell_type": "code",
   "execution_count": 17,
   "metadata": {},
   "outputs": [
    {
     "name": "stdout",
     "output_type": "stream",
     "text": [
      "0\n",
      "1\n",
      "0\n",
      "1\n",
      "0\n",
      "0\n",
      "1\n",
      "1\n",
      "0\n",
      "1\n",
      "1\n",
      "0\n",
      "0\n",
      "0\n",
      "0\n",
      "1\n",
      "0\n",
      "1\n",
      "1\n",
      "0\n",
      "0\n",
      "1\n",
      "1\n",
      "1\n",
      "0\n",
      "1\n",
      "1\n",
      "0\n",
      "0\n",
      "1\n",
      "0\n",
      "1\n",
      "0\n",
      "1\n",
      "1\n",
      "0\n",
      "1\n",
      "1\n",
      "0\n",
      "1\n",
      "0\n",
      "1\n",
      "1\n",
      "0\n",
      "0\n",
      "0\n",
      "0\n",
      "1\n",
      "0\n",
      "1\n",
      "1\n",
      "1\n",
      "0\n",
      "1\n",
      "0\n",
      "0\n",
      "0\n",
      "1\n",
      "1\n",
      "0\n",
      "1\n",
      "0\n",
      "0\n",
      "0\n",
      "0\n"
     ]
    }
   ],
   "source": [
    "strg=[]\n",
    "for x in list3:   \n",
    "    for y in x:\n",
    "        strg.append(y)\n",
    "        print(y)"
   ]
  },
  {
   "cell_type": "code",
   "execution_count": 18,
   "metadata": {},
   "outputs": [
    {
     "name": "stdout",
     "output_type": "stream",
     "text": [
      "binary :  01010011011000010110011101100101011011010110000101110100011010000\n"
     ]
    }
   ],
   "source": [
    "binr = ''.join(str(e) for e in strg)\n",
    "print(\"binary : \",binr)"
   ]
  },
  {
   "cell_type": "code",
   "execution_count": 19,
   "metadata": {},
   "outputs": [
    {
     "data": {
      "text/plain": [
       "65"
      ]
     },
     "execution_count": 19,
     "metadata": {},
     "output_type": "execute_result"
    }
   ],
   "source": [
    "bl=((binr).join(binr)).count(binr) + 1\n",
    "bl"
   ]
  },
  {
   "cell_type": "code",
   "execution_count": 20,
   "metadata": {},
   "outputs": [],
   "source": [
    "if bl % 8 ==0:\n",
    "    val=binr\n",
    "else:\n",
    "    m = bl % 8\n",
    "    val=binr[:-m]"
   ]
  },
  {
   "cell_type": "code",
   "execution_count": 21,
   "metadata": {},
   "outputs": [
    {
     "data": {
      "text/plain": [
       "'0101001101100001011001110110010101101101011000010111010001101000'"
      ]
     },
     "execution_count": 21,
     "metadata": {},
     "output_type": "execute_result"
    }
   ],
   "source": [
    "val"
   ]
  },
  {
   "cell_type": "code",
   "execution_count": 22,
   "metadata": {},
   "outputs": [
    {
     "data": {
      "text/plain": [
       "'Sagemath'"
      ]
     },
     "execution_count": 22,
     "metadata": {},
     "output_type": "execute_result"
    }
   ],
   "source": [
    "word=bin_to_ascii(val)\n",
    "word"
   ]
  },
  {
   "cell_type": "code",
   "execution_count": null,
   "metadata": {},
   "outputs": [],
   "source": []
  }
 ],
 "metadata": {
  "kernelspec": {
   "display_name": "SageMath 9.3",
   "language": "sage",
   "name": "sagemath"
  },
  "language_info": {
   "codemirror_mode": {
    "name": "ipython",
    "version": 3
   },
   "file_extension": ".py",
   "mimetype": "text/x-python",
   "name": "python",
   "nbconvert_exporter": "python",
   "pygments_lexer": "ipython3",
   "version": "3.7.10"
  }
 },
 "nbformat": 4,
 "nbformat_minor": 4
}
