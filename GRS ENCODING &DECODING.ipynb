{
 "cells": [
  {
   "cell_type": "code",
   "execution_count": 1,
   "metadata": {},
   "outputs": [],
   "source": [
    "import numpy as np\n",
    "from sage.crypto.util import ascii_to_bin\n",
    "from sage.crypto.util import bin_to_ascii\n",
    "from sage.crypto.util import ascii_integer"
   ]
  },
  {
   "cell_type": "code",
   "execution_count": 2,
   "metadata": {},
   "outputs": [
    {
     "name": "stderr",
     "output_type": "stream",
     "text": [
      "/opt/sagemath-9.3/local/lib/python3.7/site-packages/sage/coding/cyclic_code.py:452: FutureWarning: This class/method/function is marked as experimental. It, its functionality or its interface might change without a formal deprecation.\n",
      "See http://trac.sagemath.org/20284 for details.\n",
      "  embedding=F_to_Fsplit)\n"
     ]
    },
    {
     "data": {
      "text/plain": [
       "[15, 5] BCH Code over GF(2) with designed distance 7"
      ]
     },
     "execution_count": 2,
     "metadata": {},
     "output_type": "execute_result"
    }
   ],
   "source": [
    "C = codes.BCHCode(GF(2), 15, 7, offset=1)\n",
    "C"
   ]
  },
  {
   "cell_type": "code",
   "execution_count": 3,
   "metadata": {},
   "outputs": [
    {
     "data": {
      "text/plain": [
       "[1 1 1 0 1 1 0 0 1 0 1 0 0 0 0]\n",
       "[0 1 1 1 0 1 1 0 0 1 0 1 0 0 0]\n",
       "[0 0 1 1 1 0 1 1 0 0 1 0 1 0 0]\n",
       "[0 0 0 1 1 1 0 1 1 0 0 1 0 1 0]\n",
       "[0 0 0 0 1 1 1 0 1 1 0 0 1 0 1]"
      ]
     },
     "execution_count": 3,
     "metadata": {},
     "output_type": "execute_result"
    }
   ],
   "source": [
    "G=C.generator_matrix()\n",
    "G"
   ]
  },
  {
   "cell_type": "code",
   "execution_count": 4,
   "metadata": {},
   "outputs": [
    {
     "data": {
      "text/plain": [
       "[15, 9, 7] Reed-Solomon Code over GF(16)"
      ]
     },
     "execution_count": 4,
     "metadata": {},
     "output_type": "execute_result"
    }
   ],
   "source": [
    "D = codes.decoders.BCHUnderlyingGRSDecoder(C)\n",
    "RS=D.grs_code()\n",
    "RS\n"
   ]
  },
  {
   "cell_type": "code",
   "execution_count": 5,
   "metadata": {},
   "outputs": [
    {
     "data": {
      "text/plain": [
       "[                   1                    1                    1                    1                    1                    1                    1                    1                    1                    1                    1                    1                    1                    1                    1]\n",
       "[                   1                   z4                 z4^2                 z4^3               z4 + 1            z4^2 + z4          z4^3 + z4^2        z4^3 + z4 + 1             z4^2 + 1            z4^3 + z4        z4^2 + z4 + 1     z4^3 + z4^2 + z4 z4^3 + z4^2 + z4 + 1      z4^3 + z4^2 + 1             z4^3 + 1]\n",
       "[                   1                 z4^2               z4 + 1          z4^3 + z4^2             z4^2 + 1        z4^2 + z4 + 1 z4^3 + z4^2 + z4 + 1             z4^3 + 1                   z4                 z4^3            z4^2 + z4        z4^3 + z4 + 1            z4^3 + z4     z4^3 + z4^2 + z4      z4^3 + z4^2 + 1]\n",
       "[                   1                 z4^3          z4^3 + z4^2            z4^3 + z4 z4^3 + z4^2 + z4 + 1                    1                 z4^3          z4^3 + z4^2            z4^3 + z4 z4^3 + z4^2 + z4 + 1                    1                 z4^3          z4^3 + z4^2            z4^3 + z4 z4^3 + z4^2 + z4 + 1]\n",
       "[                   1               z4 + 1             z4^2 + 1 z4^3 + z4^2 + z4 + 1                   z4            z4^2 + z4            z4^3 + z4      z4^3 + z4^2 + 1                 z4^2          z4^3 + z4^2        z4^2 + z4 + 1             z4^3 + 1                 z4^3        z4^3 + z4 + 1     z4^3 + z4^2 + z4]\n",
       "[                   1            z4^2 + z4        z4^2 + z4 + 1                    1            z4^2 + z4        z4^2 + z4 + 1                    1            z4^2 + z4        z4^2 + z4 + 1                    1            z4^2 + z4        z4^2 + z4 + 1                    1            z4^2 + z4        z4^2 + z4 + 1]\n",
       "[                   1          z4^3 + z4^2 z4^3 + z4^2 + z4 + 1                 z4^3            z4^3 + z4                    1          z4^3 + z4^2 z4^3 + z4^2 + z4 + 1                 z4^3            z4^3 + z4                    1          z4^3 + z4^2 z4^3 + z4^2 + z4 + 1                 z4^3            z4^3 + z4]\n",
       "[                   1        z4^3 + z4 + 1             z4^3 + 1          z4^3 + z4^2      z4^3 + z4^2 + 1            z4^2 + z4 z4^3 + z4^2 + z4 + 1               z4 + 1     z4^3 + z4^2 + z4                 z4^3        z4^2 + z4 + 1                 z4^2            z4^3 + z4                   z4             z4^2 + 1]\n",
       "[                   1             z4^2 + 1                   z4            z4^3 + z4                 z4^2        z4^2 + z4 + 1                 z4^3     z4^3 + z4^2 + z4               z4 + 1 z4^3 + z4^2 + z4 + 1            z4^2 + z4      z4^3 + z4^2 + 1          z4^3 + z4^2             z4^3 + 1        z4^3 + z4 + 1]"
      ]
     },
     "execution_count": 5,
     "metadata": {},
     "output_type": "execute_result"
    }
   ],
   "source": [
    "RS.generator_matrix()"
   ]
  },
  {
   "cell_type": "code",
   "execution_count": 6,
   "metadata": {},
   "outputs": [
    {
     "data": {
      "text/plain": [
       "9"
      ]
     },
     "execution_count": 6,
     "metadata": {},
     "output_type": "execute_result"
    }
   ],
   "source": [
    "RS.dimension()"
   ]
  },
  {
   "cell_type": "code",
   "execution_count": 7,
   "metadata": {},
   "outputs": [
    {
     "name": "stdout",
     "output_type": "stream",
     "text": [
      "Enter any string : Sagemath\n",
      "Sagemath\n"
     ]
    }
   ],
   "source": [
    "inp = input(\"Enter any string : \")\n",
    "print(inp)"
   ]
  },
  {
   "cell_type": "code",
   "execution_count": 8,
   "metadata": {},
   "outputs": [
    {
     "name": "stdout",
     "output_type": "stream",
     "text": [
      "Converted to Binary :  0101001101100001011001110110010101101101011000010111010001101000\n"
     ]
    }
   ],
   "source": [
    "bin = BinaryStrings()\n",
    "B = ascii_to_bin(inp);\n",
    "print(\"Converted to Binary : \",B)\n",
    "list1=[int(i) for i in str(B)]\n"
   ]
  },
  {
   "cell_type": "code",
   "execution_count": 9,
   "metadata": {},
   "outputs": [
    {
     "name": "stdout",
     "output_type": "stream",
     "text": [
      "[0, 1, 0, 1, 0, 0, 1, 1, 0, 1, 1, 0, 0, 0, 0, 1, 0, 1, 1, 0, 0, 1, 1, 1, 0, 1, 1, 0, 0, 1, 0, 1, 0, 1, 1, 0, 1, 1, 0, 1, 0, 1, 1, 0, 0, 0, 0, 1, 0, 1, 1, 1, 0, 1, 0, 0, 0, 1, 1, 0, 1, 0, 0, 0]\n"
     ]
    }
   ],
   "source": [
    "print(list1)\n"
   ]
  },
  {
   "cell_type": "code",
   "execution_count": 10,
   "metadata": {},
   "outputs": [
    {
     "data": {
      "text/plain": [
       "64"
      ]
     },
     "execution_count": 10,
     "metadata": {},
     "output_type": "execute_result"
    }
   ],
   "source": [
    "len=len(list1)\n",
    "len"
   ]
  },
  {
   "cell_type": "code",
   "execution_count": 11,
   "metadata": {},
   "outputs": [
    {
     "name": "stdout",
     "output_type": "stream",
     "text": [
      "010100110110000101100111011001010110110101100001011101000110100000000000\n"
     ]
    }
   ],
   "source": [
    "if len % 9==0:\n",
    "    print(\"Padding not needed\")\n",
    "    x=B\n",
    "else:\n",
    "    pad= '0'\n",
    "    p = len % 9\n",
    "    l=len+(9-p)\n",
    "    x = str(B).ljust(l, pad)\n",
    "    print(x)"
   ]
  },
  {
   "cell_type": "code",
   "execution_count": 12,
   "metadata": {},
   "outputs": [
    {
     "data": {
      "text/plain": [
       "'010100110110000101100111011001010110110101100001011101000110100000000000'"
      ]
     },
     "execution_count": 12,
     "metadata": {},
     "output_type": "execute_result"
    }
   ],
   "source": [
    "x"
   ]
  },
  {
   "cell_type": "code",
   "execution_count": 13,
   "metadata": {},
   "outputs": [
    {
     "data": {
      "text/plain": [
       "72"
      ]
     },
     "execution_count": 13,
     "metadata": {},
     "output_type": "execute_result"
    }
   ],
   "source": [
    "length=((x).join(x)).count(x) + 1\n",
    "length"
   ]
  },
  {
   "cell_type": "code",
   "execution_count": 14,
   "metadata": {},
   "outputs": [
    {
     "data": {
      "text/plain": [
       "[0,\n",
       " 1,\n",
       " 0,\n",
       " 1,\n",
       " 0,\n",
       " 0,\n",
       " 1,\n",
       " 1,\n",
       " 0,\n",
       " 1,\n",
       " 1,\n",
       " 0,\n",
       " 0,\n",
       " 0,\n",
       " 0,\n",
       " 1,\n",
       " 0,\n",
       " 1,\n",
       " 1,\n",
       " 0,\n",
       " 0,\n",
       " 1,\n",
       " 1,\n",
       " 1,\n",
       " 0,\n",
       " 1,\n",
       " 1,\n",
       " 0,\n",
       " 0,\n",
       " 1,\n",
       " 0,\n",
       " 1,\n",
       " 0,\n",
       " 1,\n",
       " 1,\n",
       " 0,\n",
       " 1,\n",
       " 1,\n",
       " 0,\n",
       " 1,\n",
       " 0,\n",
       " 1,\n",
       " 1,\n",
       " 0,\n",
       " 0,\n",
       " 0,\n",
       " 0,\n",
       " 1,\n",
       " 0,\n",
       " 1,\n",
       " 1,\n",
       " 1,\n",
       " 0,\n",
       " 1,\n",
       " 0,\n",
       " 0,\n",
       " 0,\n",
       " 1,\n",
       " 1,\n",
       " 0,\n",
       " 1,\n",
       " 0,\n",
       " 0,\n",
       " 0,\n",
       " 0,\n",
       " 0,\n",
       " 0,\n",
       " 0,\n",
       " 0,\n",
       " 0,\n",
       " 0,\n",
       " 0]"
      ]
     },
     "execution_count": 14,
     "metadata": {},
     "output_type": "execute_result"
    }
   ],
   "source": [
    "plist=[int(i) for i in str(x)]\n",
    "plist"
   ]
  },
  {
   "cell_type": "code",
   "execution_count": 15,
   "metadata": {},
   "outputs": [
    {
     "data": {
      "text/plain": [
       "8"
      ]
     },
     "execution_count": 15,
     "metadata": {},
     "output_type": "execute_result"
    }
   ],
   "source": [
    "n=length/9\n",
    "n"
   ]
  },
  {
   "cell_type": "code",
   "execution_count": 16,
   "metadata": {},
   "outputs": [
    {
     "name": "stdout",
     "output_type": "stream",
     "text": [
      "[0 1 0 1 0 0 1 1 0]\n",
      "[1 1 0 0 0 0 1 0 1]\n",
      "[1 0 0 1 1 1 0 1 1]\n",
      "[0 0 1 0 1 0 1 1 0]\n",
      "[1 1 0 1 0 1 1 0 0]\n",
      "[0 0 1 0 1 1 1 0 1]\n",
      "[0 0 0 1 1 0 1 0 0]\n",
      "[0 0 0 0 0 0 0 0 0]\n"
     ]
    }
   ],
   "source": [
    "splits = np.array_split(plist,n)\n",
    "list2=[]\n",
    "for i in splits:\n",
    "    print(i)"
   ]
  },
  {
   "cell_type": "code",
   "execution_count": 17,
   "metadata": {},
   "outputs": [
    {
     "name": "stdout",
     "output_type": "stream",
     "text": [
      "[0 1 0 1 0 0 1 1 0]\n",
      "Encoded (0, z4^3 + z4^2 + 1, z4^3 + z4^2 + z4, z4^2 + z4, z4^3 + z4 + 1, 0, z4^2 + z4 + 1, z4^3 + z4 + 1, z4^3 + 1, z4^2 + z4 + 1, 0, z4^3 + z4^2 + z4, z4^2 + z4, z4^3 + z4^2 + 1, z4^3 + 1)\n",
      "[1 1 0 0 0 0 1 0 1]\n",
      "Encoded (0, z4^3 + z4, z4^3, z4^3 + z4 + 1, z4^3 + z4^2, 1, z4^3 + 1, z4^3 + z4 + 1, z4^3 + z4^2 + z4 + 1, z4^3 + z4^2 + z4, 1, z4^3 + z4^2 + z4, z4^3 + z4^2 + 1, z4^3 + z4^2 + 1, z4^3 + 1)\n",
      "[1 0 0 1 1 1 0 1 1]\n",
      "Encoded (0, z4, z4^2, z4 + 1, z4 + 1, 0, z4^2 + 1, z4^3 + z4 + 1, z4^2 + 1, z4^2, 0, z4^3 + z4^2 + z4, z4, z4^3 + z4^2 + 1, z4^3 + 1)\n",
      "[0 0 1 0 1 0 1 1 0]\n",
      "Encoded (0, 0, 0, z4^2 + z4 + 1, 0, z4^2 + z4, z4^2 + z4, z4^3, 0, z4^2 + z4, z4^2 + z4 + 1, z4^3 + z4, z4^2 + z4 + 1, z4^3 + z4^2 + z4 + 1, z4^3 + z4^2)\n",
      "[1 1 0 1 0 1 1 0 0]\n",
      "Encoded (1, 1, 1, z4^3 + z4, 1, 0, z4^3, z4^3 + z4^2 + z4 + 1, 1, z4^3 + z4^2 + z4 + 1, 0, z4^3 + z4^2, z4^3 + z4^2, z4^3, z4^3 + z4)\n",
      "[0 0 1 0 1 1 1 0 1]\n",
      "Encoded (1, z4^3, z4^3 + z4^2, 0, z4^3 + z4^2 + z4 + 1, 0, 0, z4 + 1, z4^3 + z4, 0, 0, z4^2, 0, z4, z4^2 + 1)\n",
      "[0 0 0 1 1 0 1 0 0]\n",
      "Encoded (1, z4^2 + z4 + 1, z4^2 + z4, z4^3 + z4^2 + 1, z4^2 + z4 + 1, z4^2 + z4, z4^3 + z4^2 + z4, z4^3 + z4^2 + z4, z4^2 + z4, z4^3 + 1, z4^2 + z4 + 1, z4^3 + z4^2 + 1, z4^3 + z4 + 1, z4^3 + 1, z4^3 + z4 + 1)\n",
      "[0 0 0 0 0 0 0 0 0]\n",
      "Encoded (0, 0, 0, 0, 0, 0, 0, 0, 0, 0, 0, 0, 0, 0, 0)\n"
     ]
    }
   ],
   "source": [
    "splits = np.array_split(plist,n)\n",
    "list2=[]\n",
    "for i in splits:\n",
    "    print(i)\n",
    "    #encoding\n",
    "    word = vector(GF(2),(i))\n",
    "    E = codes.encoders.LinearCodeGeneratorMatrixEncoder(RS)\n",
    "    A=E.encode(word)\n",
    "    list2.append(A)\n",
    "    print(\"Encoded\",A)\n"
   ]
  },
  {
   "cell_type": "code",
   "execution_count": 21,
   "metadata": {},
   "outputs": [
    {
     "data": {
      "text/plain": [
       "[(0, z4^3 + z4^2 + 1, z4^3 + z4^2 + z4, z4^2 + z4, z4^3 + z4 + 1, 0, z4^2 + z4 + 1, z4^3 + z4 + 1, z4^3 + 1, z4^2 + z4 + 1, 0, z4^3 + z4^2 + z4, z4^2 + z4, z4^3 + z4^2 + 1, z4^3 + 1),\n",
       " (0, z4^3 + z4, z4^3, z4^3 + z4 + 1, z4^3 + z4^2, 1, z4^3 + 1, z4^3 + z4 + 1, z4^3 + z4^2 + z4 + 1, z4^3 + z4^2 + z4, 1, z4^3 + z4^2 + z4, z4^3 + z4^2 + 1, z4^3 + z4^2 + 1, z4^3 + 1),\n",
       " (0, z4, z4^2, z4 + 1, z4 + 1, 0, z4^2 + 1, z4^3 + z4 + 1, z4^2 + 1, z4^2, 0, z4^3 + z4^2 + z4, z4, z4^3 + z4^2 + 1, z4^3 + 1),\n",
       " (0, 0, 0, z4^2 + z4 + 1, 0, z4^2 + z4, z4^2 + z4, z4^3, 0, z4^2 + z4, z4^2 + z4 + 1, z4^3 + z4, z4^2 + z4 + 1, z4^3 + z4^2 + z4 + 1, z4^3 + z4^2),\n",
       " (1, 1, 1, z4^3 + z4, 1, 0, z4^3, z4^3 + z4^2 + z4 + 1, 1, z4^3 + z4^2 + z4 + 1, 0, z4^3 + z4^2, z4^3 + z4^2, z4^3, z4^3 + z4),\n",
       " (1, z4^3, z4^3 + z4^2, 0, z4^3 + z4^2 + z4 + 1, 0, 0, z4 + 1, z4^3 + z4, 0, 0, z4^2, 0, z4, z4^2 + 1),\n",
       " (1, z4^2 + z4 + 1, z4^2 + z4, z4^3 + z4^2 + 1, z4^2 + z4 + 1, z4^2 + z4, z4^3 + z4^2 + z4, z4^3 + z4^2 + z4, z4^2 + z4, z4^3 + 1, z4^2 + z4 + 1, z4^3 + z4^2 + 1, z4^3 + z4 + 1, z4^3 + 1, z4^3 + z4 + 1),\n",
       " (0, 0, 0, 0, 0, 0, 0, 0, 0, 0, 0, 0, 0, 0, 0)]"
      ]
     },
     "execution_count": 21,
     "metadata": {},
     "output_type": "execute_result"
    }
   ],
   "source": [
    "list2"
   ]
  },
  {
   "cell_type": "code",
   "execution_count": 22,
   "metadata": {},
   "outputs": [
    {
     "name": "stdout",
     "output_type": "stream",
     "text": [
      "(0, z4^3 + z4^2 + 1, z4^3 + z4^2 + z4, z4^2 + z4, z4^3 + z4 + 1, 0, z4^2 + z4 + 1, z4^3 + z4 + 1, z4^3 + 1, z4^2 + z4 + 1, 0, z4^3 + z4^2 + z4, z4^2 + z4, z4^3 + z4^2 + 1, z4^3 + 1)\n",
      "Decoded (0, 1, 0, 1, 0, 0, 1, 1, 0)\n",
      "(0, z4^3 + z4, z4^3, z4^3 + z4 + 1, z4^3 + z4^2, 1, z4^3 + 1, z4^3 + z4 + 1, z4^3 + z4^2 + z4 + 1, z4^3 + z4^2 + z4, 1, z4^3 + z4^2 + z4, z4^3 + z4^2 + 1, z4^3 + z4^2 + 1, z4^3 + 1)\n",
      "Decoded (1, 1, 0, 0, 0, 0, 1, 0, 1)\n",
      "(0, z4, z4^2, z4 + 1, z4 + 1, 0, z4^2 + 1, z4^3 + z4 + 1, z4^2 + 1, z4^2, 0, z4^3 + z4^2 + z4, z4, z4^3 + z4^2 + 1, z4^3 + 1)\n",
      "Decoded (1, 0, 0, 1, 1, 1, 0, 1, 1)\n",
      "(0, 0, 0, z4^2 + z4 + 1, 0, z4^2 + z4, z4^2 + z4, z4^3, 0, z4^2 + z4, z4^2 + z4 + 1, z4^3 + z4, z4^2 + z4 + 1, z4^3 + z4^2 + z4 + 1, z4^3 + z4^2)\n",
      "Decoded (0, 0, 1, 0, 1, 0, 1, 1, 0)\n",
      "(1, 1, 1, z4^3 + z4, 1, 0, z4^3, z4^3 + z4^2 + z4 + 1, 1, z4^3 + z4^2 + z4 + 1, 0, z4^3 + z4^2, z4^3 + z4^2, z4^3, z4^3 + z4)\n",
      "Decoded (1, 1, 0, 1, 0, 1, 1, 0, 0)\n",
      "(1, z4^3, z4^3 + z4^2, 0, z4^3 + z4^2 + z4 + 1, 0, 0, z4 + 1, z4^3 + z4, 0, 0, z4^2, 0, z4, z4^2 + 1)\n",
      "Decoded (0, 0, 1, 0, 1, 1, 1, 0, 1)\n",
      "(1, z4^2 + z4 + 1, z4^2 + z4, z4^3 + z4^2 + 1, z4^2 + z4 + 1, z4^2 + z4, z4^3 + z4^2 + z4, z4^3 + z4^2 + z4, z4^2 + z4, z4^3 + 1, z4^2 + z4 + 1, z4^3 + z4^2 + 1, z4^3 + z4 + 1, z4^3 + 1, z4^3 + z4 + 1)\n",
      "Decoded (0, 0, 0, 1, 1, 0, 1, 0, 0)\n",
      "(0, 0, 0, 0, 0, 0, 0, 0, 0, 0, 0, 0, 0, 0, 0)\n",
      "Decoded (0, 0, 0, 0, 0, 0, 0, 0, 0)\n"
     ]
    }
   ],
   "source": [
    "list3=[]\n",
    "for i in list2:\n",
    "    print(i)\n",
    "    word = vector(GF(16), ((i)))\n",
    "    DE =D.grs_decoder()\n",
    "    G=DE.decode_to_message(word)\n",
    "    list3.append(G)\n",
    "    print(\"Decoded\",G)\n"
   ]
  },
  {
   "cell_type": "code",
   "execution_count": 23,
   "metadata": {},
   "outputs": [
    {
     "data": {
      "text/plain": [
       "[(0, 1, 0, 1, 0, 0, 1, 1, 0),\n",
       " (1, 1, 0, 0, 0, 0, 1, 0, 1),\n",
       " (1, 0, 0, 1, 1, 1, 0, 1, 1),\n",
       " (0, 0, 1, 0, 1, 0, 1, 1, 0),\n",
       " (1, 1, 0, 1, 0, 1, 1, 0, 0),\n",
       " (0, 0, 1, 0, 1, 1, 1, 0, 1),\n",
       " (0, 0, 0, 1, 1, 0, 1, 0, 0),\n",
       " (0, 0, 0, 0, 0, 0, 0, 0, 0)]"
      ]
     },
     "execution_count": 23,
     "metadata": {},
     "output_type": "execute_result"
    }
   ],
   "source": [
    "list3\n"
   ]
  },
  {
   "cell_type": "code",
   "execution_count": 24,
   "metadata": {},
   "outputs": [
    {
     "name": "stdout",
     "output_type": "stream",
     "text": [
      "(0, 1, 0, 1, 0, 0, 1, 1, 0)\n",
      "(1, 1, 0, 0, 0, 0, 1, 0, 1)\n",
      "(1, 0, 0, 1, 1, 1, 0, 1, 1)\n",
      "(0, 0, 1, 0, 1, 0, 1, 1, 0)\n",
      "(1, 1, 0, 1, 0, 1, 1, 0, 0)\n",
      "(0, 0, 1, 0, 1, 1, 1, 0, 1)\n",
      "(0, 0, 0, 1, 1, 0, 1, 0, 0)\n",
      "(0, 0, 0, 0, 0, 0, 0, 0, 0)\n"
     ]
    }
   ],
   "source": [
    "for x in list3:\n",
    "    print(x)"
   ]
  },
  {
   "cell_type": "code",
   "execution_count": 25,
   "metadata": {},
   "outputs": [
    {
     "name": "stdout",
     "output_type": "stream",
     "text": [
      "0\n",
      "1\n",
      "0\n",
      "1\n",
      "0\n",
      "0\n",
      "1\n",
      "1\n",
      "0\n",
      "1\n",
      "1\n",
      "0\n",
      "0\n",
      "0\n",
      "0\n",
      "1\n",
      "0\n",
      "1\n",
      "1\n",
      "0\n",
      "0\n",
      "1\n",
      "1\n",
      "1\n",
      "0\n",
      "1\n",
      "1\n",
      "0\n",
      "0\n",
      "1\n",
      "0\n",
      "1\n",
      "0\n",
      "1\n",
      "1\n",
      "0\n",
      "1\n",
      "1\n",
      "0\n",
      "1\n",
      "0\n",
      "1\n",
      "1\n",
      "0\n",
      "0\n",
      "0\n",
      "0\n",
      "1\n",
      "0\n",
      "1\n",
      "1\n",
      "1\n",
      "0\n",
      "1\n",
      "0\n",
      "0\n",
      "0\n",
      "1\n",
      "1\n",
      "0\n",
      "1\n",
      "0\n",
      "0\n",
      "0\n",
      "0\n",
      "0\n",
      "0\n",
      "0\n",
      "0\n",
      "0\n",
      "0\n",
      "0\n"
     ]
    }
   ],
   "source": [
    "strg=[]\n",
    "for x in list3:\n",
    "    \n",
    "    for y in x:\n",
    "        strg.append(y)\n",
    "        print(y)"
   ]
  },
  {
   "cell_type": "code",
   "execution_count": 26,
   "metadata": {},
   "outputs": [
    {
     "name": "stdout",
     "output_type": "stream",
     "text": [
      "binary :  010100110110000101100111011001010110110101100001011101000110100000000000\n"
     ]
    }
   ],
   "source": [
    "binr = ''.join(str(e) for e in strg)\n",
    "print(\"binary : \",binr)"
   ]
  },
  {
   "cell_type": "code",
   "execution_count": 27,
   "metadata": {},
   "outputs": [
    {
     "data": {
      "text/plain": [
       "72"
      ]
     },
     "execution_count": 27,
     "metadata": {},
     "output_type": "execute_result"
    }
   ],
   "source": [
    "bl=((binr).join(binr)).count(binr) + 1\n",
    "bl"
   ]
  },
  {
   "cell_type": "code",
   "execution_count": 28,
   "metadata": {},
   "outputs": [
    {
     "data": {
      "text/plain": [
       "'0101001101100001011001110110010101101101011000010111010001101000'"
      ]
     },
     "execution_count": 28,
     "metadata": {},
     "output_type": "execute_result"
    }
   ],
   "source": [
    "z=bl-len\n",
    "if z==0:\n",
    "    val=binr\n",
    "else:\n",
    "    val=binr[:-z]  \n",
    "val"
   ]
  },
  {
   "cell_type": "code",
   "execution_count": 29,
   "metadata": {},
   "outputs": [
    {
     "data": {
      "text/plain": [
       "'0101001101100001011001110110010101101101011000010111010001101000'"
      ]
     },
     "execution_count": 29,
     "metadata": {},
     "output_type": "execute_result"
    }
   ],
   "source": [
    "val"
   ]
  },
  {
   "cell_type": "code",
   "execution_count": 30,
   "metadata": {},
   "outputs": [
    {
     "data": {
      "text/plain": [
       "'Sagemath'"
      ]
     },
     "execution_count": 30,
     "metadata": {},
     "output_type": "execute_result"
    }
   ],
   "source": [
    "word=bin_to_ascii(val)\n",
    "word"
   ]
  },
  {
   "cell_type": "code",
   "execution_count": null,
   "metadata": {},
   "outputs": [],
   "source": []
  }
 ],
 "metadata": {
  "kernelspec": {
   "display_name": "SageMath 9.3",
   "language": "sage",
   "name": "sagemath"
  },
  "language_info": {
   "codemirror_mode": {
    "name": "ipython",
    "version": 3
   },
   "file_extension": ".py",
   "mimetype": "text/x-python",
   "name": "python",
   "nbconvert_exporter": "python",
   "pygments_lexer": "ipython3",
   "version": "3.7.10"
  }
 },
 "nbformat": 4,
 "nbformat_minor": 4
}
