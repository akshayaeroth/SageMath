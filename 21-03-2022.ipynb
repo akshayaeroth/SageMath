{
 "cells": [
  {
   "cell_type": "code",
   "execution_count": 1,
   "metadata": {},
   "outputs": [],
   "source": [
    "from sage.crypto.util import ascii_to_bin\n",
    "from sage.crypto.util import bin_to_ascii\n",
    "from sage.crypto.util import ascii_integer"
   ]
  },
  {
   "cell_type": "code",
   "execution_count": 2,
   "metadata": {},
   "outputs": [
    {
     "data": {
      "text/plain": [
       "[0,\n",
       " 1,\n",
       " 1,\n",
       " 0,\n",
       " 0,\n",
       " 1,\n",
       " 1,\n",
       " 0,\n",
       " 0,\n",
       " 1,\n",
       " 1,\n",
       " 0,\n",
       " 1,\n",
       " 0,\n",
       " 0,\n",
       " 1,\n",
       " 0,\n",
       " 1,\n",
       " 1,\n",
       " 0,\n",
       " 1,\n",
       " 1,\n",
       " 0,\n",
       " 0,\n",
       " 0,\n",
       " 1,\n",
       " 1,\n",
       " 0,\n",
       " 0,\n",
       " 1,\n",
       " 0,\n",
       " 1,\n",
       " 0,\n",
       " 1,\n",
       " 1,\n",
       " 1,\n",
       " 0,\n",
       " 0,\n",
       " 1,\n",
       " 1]"
      ]
     },
     "execution_count": 2,
     "metadata": {},
     "output_type": "execute_result"
    }
   ],
   "source": [
    "bin = BinaryStrings()\n",
    "B = bin.encoding(\"files\");\n",
    "list(B)"
   ]
  },
  {
   "cell_type": "code",
   "execution_count": 3,
   "metadata": {},
   "outputs": [],
   "source": [
    "list1=list(B)"
   ]
  },
  {
   "cell_type": "code",
   "execution_count": 4,
   "metadata": {},
   "outputs": [
    {
     "name": "stderr",
     "output_type": "stream",
     "text": [
      "/opt/sagemath-9.3/local/lib/python3.7/site-packages/sage/coding/cyclic_code.py:452: FutureWarning: This class/method/function is marked as experimental. It, its functionality or its interface might change without a formal deprecation.\n",
      "See http://trac.sagemath.org/20284 for details.\n",
      "  embedding=F_to_Fsplit)\n"
     ]
    },
    {
     "data": {
      "text/plain": [
       "[15, 5] BCH Code over GF(2) with designed distance 7"
      ]
     },
     "execution_count": 4,
     "metadata": {},
     "output_type": "execute_result"
    }
   ],
   "source": [
    "C = codes.BCHCode(GF(2), 15, 7, offset=1)\n",
    "C"
   ]
  },
  {
   "cell_type": "code",
   "execution_count": 5,
   "metadata": {},
   "outputs": [
    {
     "data": {
      "text/plain": [
       "[1 1 1 0 1 1 0 0 1 0 1 0 0 0 0]\n",
       "[0 1 1 1 0 1 1 0 0 1 0 1 0 0 0]\n",
       "[0 0 1 1 1 0 1 1 0 0 1 0 1 0 0]\n",
       "[0 0 0 1 1 1 0 1 1 0 0 1 0 1 0]\n",
       "[0 0 0 0 1 1 1 0 1 1 0 0 1 0 1]"
      ]
     },
     "execution_count": 5,
     "metadata": {},
     "output_type": "execute_result"
    }
   ],
   "source": [
    "G=C.generator_matrix()\n",
    "G"
   ]
  },
  {
   "cell_type": "code",
   "execution_count": 6,
   "metadata": {},
   "outputs": [
    {
     "name": "stdout",
     "output_type": "stream",
     "text": [
      "length :  40\n"
     ]
    }
   ],
   "source": [
    "print(\"length : \",len(list1))\n",
    "len=len(list1)"
   ]
  },
  {
   "cell_type": "code",
   "execution_count": 8,
   "metadata": {},
   "outputs": [
    {
     "name": "stdout",
     "output_type": "stream",
     "text": [
      "[0, 1, 1, 0, 0]\n",
      "[1, 1, 0, 0, 1]\n",
      "[1, 0, 1, 0, 0]\n",
      "[1, 0, 1, 1, 0]\n",
      "[1, 1, 0, 0, 0]\n",
      "[1, 1, 0, 0, 1]\n",
      "[0, 1, 0, 1, 1]\n",
      "[1, 0, 0, 1, 1]\n"
     ]
    }
   ],
   "source": [
    "import numpy as np;\n",
    "n=len//5\n",
    "n\n",
    "list1\n",
    " \n",
    "splits = np.array_split(list1,n)\n",
    "for array in splits:\n",
    "    print(list(array))"
   ]
  },
  {
   "cell_type": "code",
   "execution_count": 9,
   "metadata": {},
   "outputs": [
    {
     "data": {
      "text/plain": [
       "[(0, 1, 0, 0, 1, 1, 0, 1, 0, 1, 1, 1, 1, 0, 0),\n",
       " (1, 0, 0, 1, 0, 1, 0, 0, 0, 0, 1, 1, 1, 0, 1),\n",
       " (1, 1, 0, 1, 0, 1, 1, 1, 1, 0, 0, 0, 1, 0, 0),\n",
       " (1, 1, 0, 0, 1, 0, 1, 0, 0, 0, 0, 1, 1, 1, 0),\n",
       " (1, 0, 0, 1, 1, 0, 1, 0, 1, 1, 1, 1, 0, 0, 0),\n",
       " (1, 0, 0, 1, 0, 1, 0, 0, 0, 0, 1, 1, 1, 0, 1),\n",
       " (0, 1, 1, 0, 0, 1, 0, 1, 0, 0, 0, 0, 1, 1, 1),\n",
       " (1, 1, 1, 1, 1, 1, 1, 1, 1, 1, 1, 1, 1, 1, 1)]"
      ]
     },
     "execution_count": 9,
     "metadata": {},
     "output_type": "execute_result"
    }
   ],
   "source": [
    "#encoding\n",
    "list2=[]\n",
    "for array in splits:\n",
    "    word = vector(GF(2),(array))\n",
    "    E = codes.encoders.LinearCodeGeneratorMatrixEncoder(C)\n",
    "    A=E.encode(word)\n",
    "    list2.append(A)\n",
    "\n",
    "list2\n",
    "    \n",
    "    "
   ]
  },
  {
   "cell_type": "code",
   "execution_count": 10,
   "metadata": {},
   "outputs": [
    {
     "data": {
      "text/plain": [
       "[(0, 1, 1, 0, 0),\n",
       " (1, 1, 0, 0, 1),\n",
       " (1, 0, 1, 0, 0),\n",
       " (1, 0, 1, 1, 0),\n",
       " (1, 1, 0, 0, 0),\n",
       " (1, 1, 0, 0, 1),\n",
       " (0, 1, 0, 1, 1),\n",
       " (1, 0, 0, 1, 1)]"
      ]
     },
     "execution_count": 10,
     "metadata": {},
     "output_type": "execute_result"
    }
   ],
   "source": [
    "#decoding\n",
    "list3=[]\n",
    "for x in list2:\n",
    "    word = vector(GF(2), ((x)))\n",
    "    w_err = word + vector(GF(2), ((1,0,0,0,0,0,0,0,0,0,0,0,0,0,0)))\n",
    "    D = C.decoder()\n",
    "    G=D.decode_to_message(w_err)\n",
    "    list3.append(G)\n",
    "list3"
   ]
  },
  {
   "cell_type": "code",
   "execution_count": 11,
   "metadata": {},
   "outputs": [
    {
     "name": "stdout",
     "output_type": "stream",
     "text": [
      "(0, 1, 1, 0, 0)\n",
      "(1, 1, 0, 0, 1)\n",
      "(1, 0, 1, 0, 0)\n",
      "(1, 0, 1, 1, 0)\n",
      "(1, 1, 0, 0, 0)\n",
      "(1, 1, 0, 0, 1)\n",
      "(0, 1, 0, 1, 1)\n",
      "(1, 0, 0, 1, 1)\n"
     ]
    }
   ],
   "source": [
    "for x in list3:\n",
    "    print(x)"
   ]
  },
  {
   "cell_type": "code",
   "execution_count": 12,
   "metadata": {},
   "outputs": [
    {
     "name": "stdout",
     "output_type": "stream",
     "text": [
      "0\n",
      "1\n",
      "1\n",
      "0\n",
      "0\n",
      "1\n",
      "1\n",
      "0\n",
      "0\n",
      "1\n",
      "1\n",
      "0\n",
      "1\n",
      "0\n",
      "0\n",
      "1\n",
      "0\n",
      "1\n",
      "1\n",
      "0\n",
      "1\n",
      "1\n",
      "0\n",
      "0\n",
      "0\n",
      "1\n",
      "1\n",
      "0\n",
      "0\n",
      "1\n",
      "0\n",
      "1\n",
      "0\n",
      "1\n",
      "1\n",
      "1\n",
      "0\n",
      "0\n",
      "1\n",
      "1\n"
     ]
    }
   ],
   "source": [
    "strg=[]\n",
    "for x in list3:\n",
    "    \n",
    "    for y in x:\n",
    "        strg.append(y)\n",
    "        print(y)"
   ]
  },
  {
   "cell_type": "code",
   "execution_count": 13,
   "metadata": {},
   "outputs": [
    {
     "name": "stdout",
     "output_type": "stream",
     "text": [
      "0110011001101001011011000110010101110011\n"
     ]
    }
   ],
   "source": [
    "binr = ''.join(str(e) for e in strg)\n",
    "print(binr)"
   ]
  },
  {
   "cell_type": "code",
   "execution_count": 14,
   "metadata": {},
   "outputs": [
    {
     "data": {
      "text/plain": [
       "'0110011001101001011011000110010101110011'"
      ]
     },
     "execution_count": 14,
     "metadata": {},
     "output_type": "execute_result"
    }
   ],
   "source": [
    "binr"
   ]
  },
  {
   "cell_type": "code",
   "execution_count": 15,
   "metadata": {},
   "outputs": [
    {
     "data": {
      "text/plain": [
       "'files'"
      ]
     },
     "execution_count": 15,
     "metadata": {},
     "output_type": "execute_result"
    }
   ],
   "source": [
    "word=bin_to_ascii(binr)\n",
    "word"
   ]
  },
  {
   "cell_type": "code",
   "execution_count": null,
   "metadata": {},
   "outputs": [],
   "source": []
  }
 ],
 "metadata": {
  "kernelspec": {
   "display_name": "SageMath 9.3",
   "language": "sage",
   "name": "sagemath"
  },
  "language_info": {
   "codemirror_mode": {
    "name": "ipython",
    "version": 3
   },
   "file_extension": ".py",
   "mimetype": "text/x-python",
   "name": "python",
   "nbconvert_exporter": "python",
   "pygments_lexer": "ipython3",
   "version": "3.7.10"
  }
 },
 "nbformat": 4,
 "nbformat_minor": 4
}
